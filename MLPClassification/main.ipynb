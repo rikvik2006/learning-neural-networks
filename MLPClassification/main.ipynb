{
 "cells": [
  {
   "cell_type": "markdown",
   "metadata": {},
   "source": [
    "# Import"
   ]
  },
  {
   "cell_type": "code",
   "execution_count": 12,
   "metadata": {},
   "outputs": [],
   "source": [
    "import pandas as pd\n",
    "from sklearn.neural_network import MLPClassifier\n",
    "from sklearn.preprocessing import LabelEncoder, normalize\n",
    "from sklearn.impute import SimpleImputer\n",
    "from sklearn.model_selection import train_test_split\n",
    "from sklearn.metrics import accuracy_score\n"
   ]
  },
  {
   "cell_type": "markdown",
   "metadata": {},
   "source": [
    "# Classe per la classificazione dei supravvisuti al Titanic\n",
    "La classe utilizza la classe `sklearn.neural_network.MLPClassifier` per la classificazione dei passeggeri del Titanic.\n",
    "Il modello è stato addestrato utilizzando il dataset `titanic.csv` scaricato dat [Kaagle](https://www.kaggle.com/datasets/brendan45774/test-file).\n",
    "Dato che il dataset non ha tutte le colonne piene sono state effettuati delle procedure di riempiemento dei valori mancanti utilizzando al classe `sklearn.impute.SimpleImputer` per riempire i valori mancanti con i valori più frequenti.\n",
    "Inoltre utilizzando la classe `sklearn.preprocessing.LabelEncoder` sono state trasformate le colonne categoriche in colonne numeriche."
   ]
  },
  {
   "cell_type": "code",
   "execution_count": 13,
   "metadata": {},
   "outputs": [],
   "source": [
    "class TitanicSurvivalClassifier:\n",
    "    def __init__(self, data_path):\n",
    "        self.data = pd.read_csv(data_path)\n",
    "        self.label_encoder = LabelEncoder()\n",
    "        # Inizializiamo l'Imputer in modo che inserisca i valori più fequenti delle celle delle colonne dove mancano i dati\n",
    "        self.imputer = SimpleImputer(strategy='most_frequent')\n",
    "        self.model = None\n",
    "        self.X = None\n",
    "        self.y = None\n",
    "\n",
    "    def preprocess_data(self):\n",
    "        # Rimuoviamo la colonna Cabin dato che è per il 78% null\n",
    "        self.data.drop(columns=['Cabin'], inplace=True)\n",
    "\n",
    "        # Riempiamo i valori mancanti nella colonna 'Age', e 'Fare'\n",
    "        # Stiamo utilizzando un imputer di tipo SimpleImputer, questa classe \n",
    "        self.data['Age'] = self.imputer.fit_transform(self.data[['Age']])\n",
    "        self.data['Fare'] = self.imputer.fit_transform(self.data[['Fare']])\n",
    "\n",
    "        # Codifica le variabili categoriche\n",
    "        self.data['Sex'] = self.label_encoder.fit_transform(self.data['Sex'])\n",
    "        self.data['Embarked'] = self.label_encoder.fit_transform(self.data['Embarked'])\n",
    "\n",
    "        # Seleziona le feature e il target\n",
    "        self.X = self.data[['Pclass', 'Sex', 'Age', 'SibSp', 'Parch', 'Fare', 'Embarked']]\n",
    "        self.y = self.data['Survived']\n",
    "        print(self.X)\n",
    "\n",
    "    def train_model(self):\n",
    "        # Dividi il dataset in training e test set\n",
    "        X_train, X_test, y_train, y_test = train_test_split(self.X, self.y, test_size=0.2, random_state=42)\n",
    "        \n",
    "        # Inizializza il modello MLPClassifier\n",
    "        self.model = MLPClassifier(hidden_layer_sizes=(100,), max_iter=500)\n",
    "\n",
    "        # Addestra il modello\n",
    "        self.model.fit(X_train, y_train)\n",
    "\n",
    "        # Valuta l'accuratezza del modello\n",
    "        train_accuracy = accuracy_score(y_train, self.model.predict(X_train))\n",
    "        test_accuracy = accuracy_score(y_test, self.model.predict(X_test))\n",
    "        print(f\"Training Accuracy: {train_accuracy}\")\n",
    "        print(f\"Test Accuracy: {test_accuracy}\")\n",
    "\n",
    "    def predict(self, passenger_data):\n",
    "        # Effettua una previsione per nuovi dati di passeggeri\n",
    "        return self.model.predict(passenger_data)"
   ]
  },
  {
   "cell_type": "code",
   "execution_count": 14,
   "metadata": {},
   "outputs": [
    {
     "name": "stdout",
     "output_type": "stream",
     "text": [
      "     Pclass  Sex   Age  SibSp  Parch      Fare  Embarked\n",
      "0         3    1  34.5      0      0    7.8292         1\n",
      "1         3    0  47.0      1      0    7.0000         2\n",
      "2         2    1  62.0      0      0    9.6875         1\n",
      "3         3    1  27.0      0      0    8.6625         2\n",
      "4         3    0  22.0      1      1   12.2875         2\n",
      "..      ...  ...   ...    ...    ...       ...       ...\n",
      "413       3    1  21.0      0      0    8.0500         2\n",
      "414       1    0  39.0      0      0  108.9000         0\n",
      "415       3    1  38.5      0      0    7.2500         2\n",
      "416       3    1  21.0      0      0    8.0500         2\n",
      "417       3    1  21.0      1      1   22.3583         0\n",
      "\n",
      "[418 rows x 7 columns]\n",
      "Training Accuracy: 1.0\n",
      "Test Accuracy: 1.0\n"
     ]
    },
    {
     "data": {
      "text/html": [
       "<div>\n",
       "<style scoped>\n",
       "    .dataframe tbody tr th:only-of-type {\n",
       "        vertical-align: middle;\n",
       "    }\n",
       "\n",
       "    .dataframe tbody tr th {\n",
       "        vertical-align: top;\n",
       "    }\n",
       "\n",
       "    .dataframe thead th {\n",
       "        text-align: right;\n",
       "    }\n",
       "</style>\n",
       "<table border=\"1\" class=\"dataframe\">\n",
       "  <thead>\n",
       "    <tr style=\"text-align: right;\">\n",
       "      <th></th>\n",
       "      <th>Pclass</th>\n",
       "      <th>Sex</th>\n",
       "      <th>Age</th>\n",
       "      <th>SibSp</th>\n",
       "      <th>Parch</th>\n",
       "      <th>Fare</th>\n",
       "      <th>Embarked</th>\n",
       "    </tr>\n",
       "  </thead>\n",
       "  <tbody>\n",
       "    <tr>\n",
       "      <th>0</th>\n",
       "      <td>3</td>\n",
       "      <td>1</td>\n",
       "      <td>25</td>\n",
       "      <td>0</td>\n",
       "      <td>0</td>\n",
       "      <td>7.5</td>\n",
       "      <td>2</td>\n",
       "    </tr>\n",
       "  </tbody>\n",
       "</table>\n",
       "</div>"
      ],
      "text/plain": [
       "   Pclass  Sex  Age  SibSp  Parch  Fare  Embarked\n",
       "0       3    1   25      0      0   7.5         2"
      ]
     },
     "execution_count": 14,
     "metadata": {},
     "output_type": "execute_result"
    }
   ],
   "source": [
    "# Percorso del file CSV\n",
    "data_path = \"./datasets/titanic.csv\"\n",
    "\n",
    "# Crea un'istanza del classificatore TitanicSurvivalClassifier\n",
    "classifier = TitanicSurvivalClassifier(data_path)\n",
    "\n",
    "# Preelabora i dati\n",
    "classifier.preprocess_data()\n",
    "\n",
    "# Addestra il modello\n",
    "classifier.train_model()\n",
    "\n",
    "new_passenger_data = pd.DataFrame([[3, 1, 25, 0, 0, 7.5, 2]], columns=['Pclass', 'Sex', 'Age', 'SibSp', 'Parch', 'Fare', 'Embarked'])\n",
    "new_passenger_data\n"
   ]
  },
  {
   "cell_type": "code",
   "execution_count": 15,
   "metadata": {},
   "outputs": [
    {
     "name": "stdout",
     "output_type": "stream",
     "text": [
      "Dead\n"
     ]
    }
   ],
   "source": [
    "prediction = classifier.predict(new_passenger_data)\n",
    "print(\"Survived\" if prediction == 1 else \"Dead\")"
   ]
  }
 ],
 "metadata": {
  "kernelspec": {
   "display_name": "Python 3",
   "language": "python",
   "name": "python3"
  },
  "language_info": {
   "codemirror_mode": {
    "name": "ipython",
    "version": 3
   },
   "file_extension": ".py",
   "mimetype": "text/x-python",
   "name": "python",
   "nbconvert_exporter": "python",
   "pygments_lexer": "ipython3",
   "version": "3.11.0"
  }
 },
 "nbformat": 4,
 "nbformat_minor": 2
}
